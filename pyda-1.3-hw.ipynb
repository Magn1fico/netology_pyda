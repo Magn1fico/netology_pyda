{
 "cells": [
  {
   "cell_type": "markdown",
   "metadata": {},
   "source": [
    "## Задание 1"
   ]
  },
  {
   "cell_type": "markdown",
   "metadata": {},
   "source": [
    "Дан список вида:"
   ]
  },
  {
   "cell_type": "code",
   "execution_count": 8,
   "metadata": {},
   "outputs": [
    {
     "name": "stdout",
     "output_type": "stream",
     "text": [
      "103\n"
     ]
    }
   ],
   "source": [
    "data = [\n",
    "    [13, 25, 23, 34],\n",
    "    [45, 32, 44, 47],\n",
    "    [12, 33, 23, 95],\n",
    "    [13, 53, 34, 35]\n",
    "]\n",
    "\n",
    "def diag_sum(arr):\n",
    "    isum = 0 \n",
    "    for i in range(0,len(arr)):\n",
    "        isum += arr[i][i]\n",
    "    return isum\n",
    "            \n",
    "print(diag_sum(data))            "
   ]
  },
  {
   "cell_type": "markdown",
   "metadata": {},
   "source": [
    "Напишите функцию, которая возвращает сумму элементов на диагонали. Т. е. 13+32+23+35."
   ]
  },
  {
   "cell_type": "markdown",
   "metadata": {},
   "source": [
    "## Задание 2"
   ]
  },
  {
   "cell_type": "markdown",
   "metadata": {},
   "source": [
    "Дан список чисел, часть из которых имеют строковый тип или содержат буквы. Напишите функцию, которая возвращает сумму квадратов элементов, которые могут быть числами."
   ]
  },
  {
   "cell_type": "code",
   "execution_count": 21,
   "metadata": {},
   "outputs": [
    {
     "name": "stdout",
     "output_type": "stream",
     "text": [
      "430\n"
     ]
    }
   ],
   "source": [
    "data = [1, '5', 'abc', 20, '2']\n",
    "\n",
    "\n",
    "def sq_sum(arr):\n",
    "    isum = 0 \n",
    "    for i in arr:\n",
    "        if type(i) == int or i.isdigit():\n",
    "            isum += int(i)**2\n",
    "    return isum\n",
    "\n",
    "print(sq_sum(data))"
   ]
  },
  {
   "cell_type": "markdown",
   "metadata": {},
   "source": [
    "## Задание 3"
   ]
  },
  {
   "cell_type": "markdown",
   "metadata": {},
   "source": [
    "Напишите функцию, возвращающую сумму первых n чисел Фибоначчи."
   ]
  },
  {
   "cell_type": "code",
   "execution_count": 40,
   "metadata": {},
   "outputs": [
    {
     "name": "stdout",
     "output_type": "stream",
     "text": [
      "[0, 1, 1, 2, 3, 5, 8, 13, 21, 34, 55, 89, 144, 233, 377]\n",
      "986\n"
     ]
    }
   ],
   "source": [
    "def fibo(n):\n",
    "    if n == 1:\n",
    "        fib=[0]\n",
    "    elif n == 2:\n",
    "        fib=[0,1]\n",
    "    else:   \n",
    "        fib = [0,1]\n",
    "        for i in range (2,n):\n",
    "            fib.append(fib[i-1]+fib[i-2])\n",
    "    return fib\n",
    "\n",
    "print(fibo(15))\n",
    "print(sum(fibo(15)))"
   ]
  },
  {
   "cell_type": "markdown",
   "metadata": {},
   "source": [
    "## Задание 4"
   ]
  },
  {
   "cell_type": "markdown",
   "metadata": {},
   "source": [
    "Дан набор данных об обучении студентов на курсе программирования, который содержит: \n",
    "1) имя\n",
    "2) фамилию \n",
    "3) пол \n",
    "4) наличие у студента опыта в программировании \n",
    "5) набор оценок за домашние работы \n",
    "6) оценку за итоговую работу.\n",
    "\n",
    "Напишите программу, которая будет принимать команду от пользователя и возвращать соотвествующий результат.\n",
    "Список команд: \n",
    "1 - вывести на экран среднюю оценку за все ДЗ по группе и вывести на экран среднюю оценку за экзамен по группе;\n",
    "2 - вывести среднюю оценку за ДЗ и за экзамен по группе в разрезе пола студентов\n",
    "3 - вывести среднюю оценку за ДЗ и за экзамен в разрезе наличия опыта в программировании у студентов.\n",
    "\n",
    "Прогрмма должна быть полностью декомпозирована на функции (кроме объявления функций и вызова итоговой функции в реализации ничего быть не должно)."
   ]
  },
  {
   "cell_type": "code",
   "execution_count": 164,
   "metadata": {},
   "outputs": [
    {
     "name": "stdout",
     "output_type": "stream",
     "text": [
      "Please, enter command (1, 2 or 3): 3\n",
      "Results of students with program experience:\n",
      " Average grade per homework: 8.48\n",
      " Average grade per exam: 9.0\n",
      "Results of students without program experience:\n",
      " Average grade per homework: 8.2\n",
      " Average grade per exam: 10.0\n"
     ]
    }
   ],
   "source": [
    "students_list = [\n",
    "    {'name': 'Василий', 'surname': 'Теркин', 'sex': 'м', 'program_exp': True, 'grade': [8, 8, 9, 10, 9], 'exam': 9},\n",
    "    {'name': 'Мария', 'surname': 'Павлова', 'sex': 'ж', 'program_exp': True, 'grade': [7, 8, 9, 7, 9], 'exam': 8},\n",
    "    {'name': 'Ирина', 'surname': 'Андреева', 'sex': 'ж', 'program_exp': True, 'grade': [10, 9, 8, 10, 10], 'exam': 10},\n",
    "    {'name': 'Татьяна', 'surname': 'Сидорова', 'sex': 'ж', 'program_exp': True, 'grade': [7, 8, 8, 9, 8], 'exam': 8},\n",
    "    {'name': 'Иван', 'surname': 'Васильев', 'sex': 'ж', 'program_exp': True, 'grade': [9, 8, 9, 6, 9], 'exam': 10},\n",
    "    {'name': 'Роман', 'surname': 'Золотарев', 'sex': 'ж', 'program_exp': False, 'grade': [8, 9, 9, 6, 9], 'exam': 10}\n",
    "]\n",
    "\n",
    "def avg_mark_homework(src_list):\n",
    "    mark_avg = []\n",
    "    for student in src_list:\n",
    "        mark_avg.append(sum(student['grade'])/len(student['grade']))\n",
    "    res = sum(mark_avg)/len(mark_avg)\n",
    "    return round(res,2)\n",
    "\n",
    "def avg_mark_exam(src_list):\n",
    "    mark_avg = []\n",
    "    for student in src_list:\n",
    "        mark_avg.append(student['exam'])\n",
    "    res = sum(mark_avg)/len(mark_avg)\n",
    "    return round(res,2)\n",
    "\n",
    "def avg_mark_homework_sex(src_list):\n",
    "    mark_avg_m = []\n",
    "    mark_avg_f = []\n",
    "    for student in src_list:\n",
    "        if student['sex'] == 'м':\n",
    "            mark_avg_m.append(sum(student['grade'])/len(student['grade']))\n",
    "        else:\n",
    "            mark_avg_f.append(sum(student['grade'])/len(student['grade']))\n",
    "    res = [sum(mark_avg_m)/len(mark_avg_m), sum(mark_avg_f)/len(mark_avg_f)]\n",
    "    res_dict = {'м':res[0], 'ж':res[1]}\n",
    "    return res_dict\n",
    "\n",
    "def avg_mark_exam_sex(src_list):\n",
    "    mark_avg_m = []\n",
    "    mark_avg_f = []\n",
    "    for student in src_list:\n",
    "        if student['sex'] == 'м':\n",
    "            mark_avg_m.append(student['exam'])\n",
    "        else:\n",
    "            mark_avg_f.append(student['exam'])\n",
    "    res = [sum(mark_avg_m)/len(mark_avg_m), sum(mark_avg_f)/len(mark_avg_f)]\n",
    "    res_dict = {'м':res[0], 'ж':res[1]}\n",
    "    return res_dict\n",
    "\n",
    "def avg_mark_homework_prex(src_list):\n",
    "    mark_avg_exp = []\n",
    "    mark_avg_noexp = []\n",
    "    for student in src_list:\n",
    "        if student['program_exp']:\n",
    "            mark_avg_exp.append(sum(student['grade'])/len(student['grade']))\n",
    "        else:\n",
    "            mark_avg_noexp.append(sum(student['grade'])/len(student['grade']))\n",
    "    res = [sum(mark_avg_exp)/len(mark_avg_exp), sum(mark_avg_noexp)/len(mark_avg_noexp)]\n",
    "    res_dict = {'With program experience':res[0], 'Without program experience':res[1]}\n",
    "    return res_dict\n",
    "\n",
    "def avg_mark_exam_prex(src_list):\n",
    "    mark_avg_exp = []\n",
    "    mark_avg_noexp = []\n",
    "    for student in src_list:\n",
    "        if student['program_exp']:\n",
    "            mark_avg_exp.append(student['exam'])\n",
    "        else:\n",
    "            mark_avg_noexp.append(student['exam'])\n",
    "    res = [sum(mark_avg_exp)/len(mark_avg_exp), sum(mark_avg_noexp)/len(mark_avg_noexp)]\n",
    "    res_dict = {'With program experience':res[0], 'Without program experience':res[1]}\n",
    "    return res_dict\n",
    "\n",
    "def main_query(src_list):\n",
    "    query = input('Please, enter command (1, 2 or 3): ')\n",
    "    if int(query) == 1:\n",
    "        res1 = avg_mark_homework(src_list)\n",
    "        res2 = avg_mark_exam(src_list)\n",
    "        return print(f\"Average grade per homework is {res1}\\nAverage grade per exam is {res2}\")\n",
    "    if int(query) == 2:\n",
    "        res1 = avg_mark_homework_sex(src_list)\n",
    "        res2 = avg_mark_exam_sex(src_list)\n",
    "        output =[]\n",
    "        for sex in res1.keys():\n",
    "            output.append(f\"Results of students of {sex} sex:\\n Average grade per homework: {res1[sex]}\\n\\\n",
    " Average grade per exam: {res2[sex]}\")\n",
    "        return print(*output, sep='\\n')\n",
    "    if int(query) == 3:\n",
    "        res1 = avg_mark_homework_prex(src_list)\n",
    "        res2 = avg_mark_exam_prex(src_list)\n",
    "        output =[]\n",
    "        for prex in res1.keys():\n",
    "            output.append(f\"Results of students {str(prex).lower()}:\\n Average grade per homework: {res1[prex]}\\n\\\n",
    " Average grade per exam: {res2[prex]}\")\n",
    "        return print(*output, sep='\\n')\n",
    "\n",
    "main_query(students_list)\n",
    "\n"
   ]
  },
  {
   "cell_type": "code",
   "execution_count": null,
   "metadata": {},
   "outputs": [],
   "source": []
  }
 ],
 "metadata": {
  "kernelspec": {
   "display_name": "Python 3",
   "language": "python",
   "name": "python3"
  },
  "language_info": {
   "codemirror_mode": {
    "name": "ipython",
    "version": 3
   },
   "file_extension": ".py",
   "mimetype": "text/x-python",
   "name": "python",
   "nbconvert_exporter": "python",
   "pygments_lexer": "ipython3",
   "version": "3.7.3"
  }
 },
 "nbformat": 4,
 "nbformat_minor": 2
}
