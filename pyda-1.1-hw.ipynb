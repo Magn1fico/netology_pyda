{
 "cells": [
  {
   "cell_type": "markdown",
   "metadata": {},
   "source": [
    "**Задание 1**. Даны 2 строки: *long_phrase* и *short_phrase*. \n",
    "Напишите код, который проверяет действительно ли длинная фраза *long_phrase* длиннее короткой *short_phrase*. И выводит *True* или *False* в зависимости от результата сравнения."
   ]
  },
  {
   "cell_type": "code",
   "execution_count": 4,
   "metadata": {},
   "outputs": [],
   "source": [
    "long_phrase = 'Насколько проще было бы писать программы, если бы не заказчики'\n",
    "short_phrase = '640Кб должно хватить для любых задач. Билл Гейтс (по легенде)'"
   ]
  },
  {
   "cell_type": "code",
   "execution_count": 5,
   "metadata": {},
   "outputs": [
    {
     "data": {
      "text/plain": [
       "True"
      ]
     },
     "execution_count": 5,
     "metadata": {},
     "output_type": "execute_result"
    }
   ],
   "source": [
    "len(long_phrase)>len(short_phrase)"
   ]
  },
  {
   "cell_type": "markdown",
   "metadata": {},
   "source": [
    "**Задание 2**. Дано значение объема файла в байтах. Напишите перевод этого значения в мегабайты в формате: \"*Объем файла равен 213.68Mb*\""
   ]
  },
  {
   "cell_type": "code",
   "execution_count": 14,
   "metadata": {},
   "outputs": [
    {
     "name": "stdout",
     "output_type": "stream",
     "text": [
      "Enter file size in bytes: 1115566\n",
      "Объем файла равен 139445.75 Mb\n"
     ]
    }
   ],
   "source": [
    "file_size = int(input('Enter file size in bytes: '))\n",
    "print('Объем файла равен', round(file_size / 8,2), 'Mb')"
   ]
  },
  {
   "cell_type": "markdown",
   "metadata": {},
   "source": [
    "**Задание 3**. Разработать приложение для определения знака зодиака по дате рождения. Пример:\n",
    "\n",
    "Введите месяц: март\n",
    "\n",
    "Введите число: 6\n",
    "\n",
    "Вывод:\n",
    "Рыбы"
   ]
  },
  {
   "cell_type": "code",
   "execution_count": 7,
   "metadata": {},
   "outputs": [
    {
     "name": "stdout",
     "output_type": "stream",
     "text": [
      "Enter month of birth (in English): May\n",
      "Enter day of birth: 17\n",
      "Your sign is Taurus\n"
     ]
    }
   ],
   "source": [
    "import sys\n",
    "\n",
    "birth_month = input('Enter month of birth (in English): ')\n",
    "if birth_month != 'January' and birth_month != 'February' and birth_month != 'March' and birth_month != 'April' \\\n",
    "    and birth_month != 'May' and birth_month != 'June' and birth_month != 'July' and birth_month != 'August' \\\n",
    "    and birth_month != 'September' and birth_month != 'October' and birth_month != 'November' and birth_month != 'December' \\\n",
    "    and birth_month != 'january' and birth_month != 'february' and birth_month != 'march' and birth_month != 'april' \\\n",
    "    and birth_month != 'may' and birth_month != 'june' and birth_month != 'july' and birth_month != 'august' \\\n",
    "    and birth_month != 'september' and birth_month != 'october' and birth_month != 'november' and birth_month != 'december':\n",
    "    sys.exit('Incorrect month')\n",
    "\n",
    "birth_date = int(input('Enter day of birth: '))\n",
    "if birth_date < 1 or (birth_month == 'February' and birth_date > 28) or birth_date > 31:\n",
    "    sys.exit('Incorrect date')\n",
    "\n",
    "if ((birth_month == 'December' or birth_month == 'december') and birth_date >= 22) \\\n",
    "    or ((birth_month == 'January' or birth_month == 'january') and birth_date <= 20):\n",
    "    \n",
    "    print('Your sign is Capricorn')\n",
    "    \n",
    "if ((birth_month == 'January' or birth_month == 'january') and birth_date >= 21) \\\n",
    "    or ((birth_month == 'February' or birth_month == 'february') and birth_date <= 19):\n",
    "    \n",
    "    print('Your sign is Aquarius')\n",
    "    \n",
    "if ((birth_month == 'February' or birth_month == 'february') and birth_date >= 20) \\\n",
    "    or ((birth_month == 'March' or birth_month == 'march') and birth_date <= 20):\n",
    "    \n",
    "    print('Your sign is Pisces')\n",
    "    \n",
    "if ((birth_month == 'March' or birth_month == 'march') and birth_date >= 21) \\\n",
    "    or ((birth_month == 'April' or birth_month == 'april') and birth_date <= 19):\n",
    "    \n",
    "    print('Your sign is Aries')\n",
    "    \n",
    "if ((birth_month == 'April' or birth_month == 'april') and birth_date >= 20) \\\n",
    "    or ((birth_month == 'May' or birth_month == 'may') and birth_date <= 20):\n",
    "    \n",
    "    print('Your sign is Taurus')\n",
    "\n",
    "if ((birth_month == 'May' or birth_month == 'may') and birth_date >= 21) \\\n",
    "    or ((birth_month == 'June' or birth_month == 'June') and birth_date <= 21):\n",
    "    \n",
    "    print('Your sign is Gemini')\n",
    "    \n",
    "if ((birth_month == 'June' or birth_month == 'June') and birth_date >= 22) \\\n",
    "    or ((birth_month == 'July' or birth_month == 'July') and birth_date <= 23):\n",
    "    \n",
    "    print('Your sign is Cancer')\n",
    "    \n",
    "if ((birth_month == 'July' or birth_month == 'July') and birth_date >= 24) \\\n",
    "    or ((birth_month == 'August' or birth_month == 'august') and birth_date <= 23):\n",
    "    \n",
    "    print('Your sign is Leo')\n",
    "\n",
    "if ((birth_month == 'August' or birth_month == 'august') and birth_date >= 24) \\\n",
    "    or ((birth_month == 'Setpember' or birth_month == 'september') and birth_date <= 22):\n",
    "    \n",
    "    print('Your sign is Virgo')\n",
    "\n",
    "if ((birth_month == 'Setpember' or birth_month == 'september') and birth_date >= 23) \\\n",
    "    or ((birth_month == 'October' or birth_month == 'october') and birth_date <= 22):\n",
    "    \n",
    "    print('Your sign is Libra')\n",
    "    \n",
    "if ((birth_month == 'October' or birth_month == 'october') and birth_date >= 23) \\\n",
    "    or ((birth_month == 'November' or birth_month == 'november') and birth_date <= 22):\n",
    "    \n",
    "    print('Your sign is Scorpio')\n",
    "    \n",
    "if ((birth_month == 'October' or birth_month == 'october') and birth_date >= 23) \\\n",
    "    or ((birth_month == 'November' or birth_month == 'november') and birth_date <= 21):\n",
    "    \n",
    "    print('Your sign is Sagittarius')\n",
    "    "
   ]
  },
  {
   "cell_type": "markdown",
   "metadata": {},
   "source": [
    "**Задание 4**. Нужно разработать приложение для финансового планирования.\n",
    "Приложение учитывает сколько уходит на ипотеку, \"на жизнь\" и сколько нужно отложить на пенсию.\n",
    "Пользователь вводит:\n",
    "- заработанную плату в месяц.\n",
    "- сколько процентов от ЗП уходит на ипотеку.\n",
    "- сколько процентов от ЗП уходит \"на жизнь\".\n",
    "- сколько раз приходит премия в год.\n",
    "\n",
    "Остальная часть заработанной платы откладывается на пенсию.\n",
    "\n",
    "Также пользователю приходит премия в размере зарплаты, от которой половина уходит на отпуск, а вторая половина откладывается.\n",
    "\n",
    "Программа должна учитывать сколько премий было в год.\n",
    "\n",
    "Нужно вывести сколько денег тратит пользователь на ипотеку и сколько он накопит за год.\n",
    "\n",
    "Пример:\n",
    "\n",
    "Введите заработанную плату в месяц: 100000\n",
    "\n",
    "Введите сколько процентов уходит на ипотеку: 30\n",
    "\n",
    "Введите сколько процентов уходит на жизнь: 50\n",
    "\n",
    "Введите количество премий за год: 2\n",
    "\n",
    "Вывод:\n",
    "На ипотеку было потрачено: 360000 рублей\n",
    "Было накоплено: 340000 рублей"
   ]
  },
  {
   "cell_type": "code",
   "execution_count": 12,
   "metadata": {},
   "outputs": [
    {
     "name": "stdout",
     "output_type": "stream",
     "text": [
      "Enter monthly salary in RUB: 150000\n",
      "Enter share of mortgage payments (where 100 is 100%): 50\n",
      "Enter share of living costs (where 100 is 100%): 10\n",
      "Enter number of bonuses per year: 2\n",
      "Annual mortgage costs:  900000.0 RUB\n",
      "Annual savings:  870000.0 RUB\n"
     ]
    }
   ],
   "source": [
    "salary_m = int(input('Enter monthly salary in RUB: '))\n",
    "mortgage_m = int(input('Enter share of mortgage payments (where 100 is 100%): '))\n",
    "living_cost = int(input('Enter share of living costs (where 100 is 100%): '))\n",
    "bonus_per_year = int(input('Enter number of bonuses per year: '))\n",
    "\n",
    "print('Annual mortgage costs: ', salary_m * mortgage_m * 12 / 100, 'RUB')\n",
    "print('Annual savings: ', salary_m * (1 - (mortgage_m + living_cost)/100) * 12 + bonus_per_year * salary_m * 0.5, 'RUB')\n"
   ]
  }
 ],
 "metadata": {
  "kernelspec": {
   "display_name": "Python 3",
   "language": "python",
   "name": "python3"
  },
  "language_info": {
   "codemirror_mode": {
    "name": "ipython",
    "version": 3
   },
   "file_extension": ".py",
   "mimetype": "text/x-python",
   "name": "python",
   "nbconvert_exporter": "python",
   "pygments_lexer": "ipython3",
   "version": "3.7.3"
  }
 },
 "nbformat": 4,
 "nbformat_minor": 2
}
